{
 "cells": [
  {
   "cell_type": "code",
   "execution_count": 1,
   "metadata": {
    "collapsed": true
   },
   "outputs": [],
   "source": [
    "import numpy as np\n",
    "import pandas as pd\n",
    "from matplotlib import pyplot as plt\n",
    "import seaborn as sb"
   ]
  },
  {
   "cell_type": "code",
   "execution_count": 10,
   "metadata": {},
   "outputs": [],
   "source": [
    "df=pd.read_excel('G:/dumps/Estoque Piscinas Show.xls')"
   ]
  },
  {
   "cell_type": "code",
   "execution_count": 15,
   "metadata": {},
   "outputs": [
    {
     "name": "stdout",
     "output_type": "stream",
     "text": [
      "     Unnamed: 0  Código  Cód. Barras  \\\n0           NaN  4136.0          NaN   \n1           NaN  4197.0          NaN   \n2           NaN  3965.0          NaN   \n3           NaN  3964.0          NaN   \n4           NaN   658.0          NaN   \n...         ...     ...          ...   \n2025        NaN     NaN          NaN   \n2026        NaN     NaN          NaN   \n2027        NaN     NaN          NaN   \n2028        NaN     NaN          NaN   \n2029        NaN     NaN          NaN   \n\n                                    Descrição NF Referência Unid.  \\\n0                                            ...       3010    BD   \n1     100% POLIESTER -CHAPEU C/ PROTETOR BORDADO  010780040    UN   \n2                  1001 AZUL TANQUE PISCINA OURO       1972    PC   \n3          403 AZUL C/ FAIXA TANQUE PISCINA OURO       1989    PC   \n4           430 AZUL - TANQUE PISCINA OURO LIDER       1940    PC   \n...                                          ...        ...   ...   \n2025    TAMPA PARA FSB PARA GRADE 15X15 SODRAMAR        NaN    PC   \n2026                        TUBO SODAVEL 6M 40MM        NaN    MT   \n2027                       TUBO SOLDAVEL 6M 75MM        NaN    MT   \n2028                       TUBO 5\" INOX REFRACOM        NaN    PC   \n2029                       VALVULA SELETORA EPEX        NaN    PC   \n\n      Localização  Pço a Vista  Pço a Prazo  Saldo  ...  Preço (02)  \\\n0             NaN         4.86          0.0   30.0  ...         NaN   \n1             NaN         0.00          0.0   40.0  ...         NaN   \n2             NaN         0.01          NaN    0.0  ...         NaN   \n3             NaN         0.01          NaN    0.0  ...         NaN   \n4             NaN      4000.00          NaN    1.0  ...         NaN   \n...           ...          ...          ...    ...  ...         ...   \n2025          NaN          NaN          NaN    NaN  ...         NaN   \n2026          NaN          NaN          NaN    NaN  ...         NaN   \n2027          NaN          NaN          NaN    NaN  ...         NaN   \n2028          NaN          NaN          NaN    NaN  ...         NaN   \n2029          NaN          NaN          NaN    NaN  ...         NaN   \n\n      Preço (03)  Preço final  Valor  Valor de estoque: R$ 291747.3  \\\n0            NaN          ---    ---                            NaN   \n1            NaN          ---    ---                            NaN   \n2            NaN          ---    ---                            NaN   \n3            NaN          ---    ---                            NaN   \n4            NaN          ---    ---                            NaN   \n...          ...          ...    ...                            ...   \n2025         NaN         29.7   59.4                            NaN   \n2026         NaN          ---    ---                            NaN   \n2027         NaN          ---    ---                            NaN   \n2028         NaN          ---    ---                            NaN   \n2029         NaN        25.19  50.38                            NaN   \n\n      ITEMS EM STOCK ITEMS COM PREÇO ITEMS S/PREÇO  % DE ITEMS S/PR.  \\\n0                NaN             NaN           NaN               NaN   \n1                NaN             NaN           NaN               NaN   \n2                NaN             NaN           NaN               NaN   \n3                NaN             NaN           NaN               NaN   \n4                NaN             NaN           NaN               NaN   \n...              ...             ...           ...               ...   \n2025             NaN             NaN           NaN               NaN   \n2026             NaN             NaN           NaN               NaN   \n2027             NaN             NaN           NaN               NaN   \n2028             NaN             NaN           NaN               NaN   \n2029             NaN             NaN           NaN               NaN   \n\n      % DE ITEMS C/PR.  \n0                  NaN  \n1                  NaN  \n2                  NaN  \n3                  NaN  \n4                  NaN  \n...                ...  \n2025               NaN  \n2026               NaN  \n2027               NaN  \n2028               NaN  \n2029               NaN  \n\n[2030 rows x 24 columns]\n                                count          mean           std  \\\nCódigo                         1966.0  2.770746e+03  1.116020e+03   \nCód. Barras                     122.0  7.506252e+12  1.714188e+12   \nLocalização                       0.0           NaN           NaN   \nPço a Vista                    1966.0  6.619691e+02  1.977818e+03   \nPço a Prazo                    1508.0  2.651962e+01  2.884262e+02   \nSaldo                          1966.0  1.731367e+01  1.195951e+02   \nNCM                            1919.0  7.085477e+07  2.214453e+07   \nCEST                              4.0  1.482125e+06  5.232492e+05   \nSaldo de inventario             513.0  1.494542e+01  5.147877e+01   \nPreço (01)                      431.0  2.024543e+02  6.973986e+02   \nPreço (02)                       82.0  1.201834e+02  2.178209e+02   \nPreço (03)                       55.0  8.997764e+01  1.946585e+02   \nValor de estoque: R$ 291747.3     0.0           NaN           NaN   \nITEMS EM STOCK                    1.0  5.130000e+02           NaN   \nITEMS COM PREÇO                   1.0  4.310000e+02           NaN   \nITEMS S/PREÇO                     1.0  8.200000e+01           NaN   \n% DE ITEMS S/PR.                  1.0  1.598441e-01           NaN   \n% DE ITEMS C/PR.                  1.0  8.401559e-01           NaN   \n\n                                        min           25%           50%  \\\nCódigo                         1.000000e+00  2.217250e+03  3.024000e+03   \nCód. Barras                    2.000080e+06  7.890037e+12  7.890523e+12   \nLocalização                             NaN           NaN           NaN   \nPço a Vista                    0.000000e+00  1.000000e+01  5.500000e+01   \nPço a Prazo                    0.000000e+00  0.000000e+00  0.000000e+00   \nSaldo                         -2.600000e+01  0.000000e+00  0.000000e+00   \nNCM                            1.021090e+06  4.016930e+07  8.413709e+07   \nCEST                           1.006200e+06  1.076625e+06  1.405050e+06   \nSaldo de inventario            1.000000e+00  1.000000e+00  3.000000e+00   \nPreço (01)                     5.300000e-01  9.690000e+00  2.450000e+01   \nPreço (02)                     2.590000e+00  8.985000e+00  2.053500e+01   \nPreço (03)                     2.860000e+00  8.965000e+00  1.571000e+01   \nValor de estoque: R$ 291747.3           NaN           NaN           NaN   \nITEMS EM STOCK                 5.130000e+02  5.130000e+02  5.130000e+02   \nITEMS COM PREÇO                4.310000e+02  4.310000e+02  4.310000e+02   \nITEMS S/PREÇO                  8.200000e+01  8.200000e+01  8.200000e+01   \n% DE ITEMS S/PR.               1.598441e-01  1.598441e-01  1.598441e-01   \n% DE ITEMS C/PR.               8.401559e-01  8.401559e-01  8.401559e-01   \n\n                                        75%           max  \nCódigo                         3.681750e+03  4.206000e+03  \nCód. Barras                    7.899006e+12  7.899993e+12  \nLocalização                             NaN           NaN  \nPço a Vista                    3.890000e+02  2.051784e+04  \nPço a Prazo                    0.000000e+00  8.000000e+03  \nSaldo                          5.000000e+00  3.240050e+03  \nNCM                            8.481909e+07  1.000000e+08  \nCEST                           1.810550e+06  2.112200e+06  \nSaldo de inventario            9.000000e+00  6.710000e+02  \nPreço (01)                     9.438000e+01  7.310260e+03  \nPreço (02)                     1.111100e+02  1.108660e+03  \nPreço (03)                     9.916000e+01  1.256730e+03  \nValor de estoque: R$ 291747.3           NaN           NaN  \nITEMS EM STOCK                 5.130000e+02  5.130000e+02  \nITEMS COM PREÇO                4.310000e+02  4.310000e+02  \nITEMS S/PREÇO                  8.200000e+01  8.200000e+01  \n% DE ITEMS S/PR.               1.598441e-01  1.598441e-01  \n% DE ITEMS C/PR.               8.401559e-01  8.401559e-01  \n"
     ]
    }
   ],
   "source": [
    "df=pd.DataFrame(df)\n",
    "print(df)\n",
    "print(df.describe().T)"
   ]
  },
  {
   "cell_type": "code",
   "execution_count": null,
   "metadata": {},
   "outputs": [],
   "source": [
    ""
   ]
  }
 ],
 "metadata": {
  "kernelspec": {
   "display_name": "Python 2",
   "language": "python",
   "name": "python2"
  },
  "language_info": {
   "codemirror_mode": {
    "name": "ipython",
    "version": 2.0
   },
   "file_extension": ".py",
   "mimetype": "text/x-python",
   "name": "python",
   "nbconvert_exporter": "python",
   "pygments_lexer": "ipython2",
   "version": "2.7.6"
  }
 },
 "nbformat": 4,
 "nbformat_minor": 0
}