{
 "cells": [
  {
   "cell_type": "code",
   "execution_count": 10,
   "metadata": {
    "collapsed": true
   },
   "outputs": [],
   "source": [
    "from linear_algebra import squared_distance, vector_mean, distance\n",
    "from linear_algebra import squared_distance\n",
    "import math, random\n",
    "import matplotlib.image as mpimg\n",
    "import matplotlib.pyplot as plt"
   ]
  },
  {
   "cell_type": "code",
   "execution_count": 11,
   "metadata": {},
   "outputs": [],
   "source": [
    "inputs = [[-14,-5],[13,13],[20,23],[-19,-11],[-9,-16],[21,27],[-49,15],[26,13],[-46,5],[-34,-1],[11,15],[-49,0],[-22,-16],[19,28],[-12,-8],[-13,-19],[-41,8],[-11,-6],[-25,-9],[-18,-3]]"
   ]
  },
  {
   "cell_type": "code",
   "execution_count": 15,
   "metadata": {},
   "outputs": [
    {
     "data": {
      "text/plain": [
       "\"\\n\\nclass KMeans:\\n    'executa agrupamentos k-means'\\n    def __init__(self,k):\\n        self.k=k            #numero de agrupamentos\\n        self.means=None\\n    def classify(self,input):\\n        'retorna o indice do agrupamento mais proximo da entrada'\\n        return min(range(self.k),\\n        key=lambda i: squared_distance(input,self.means[i]))\\n    def train(self,inputs):\\n        'escolha pontos k aleatorios como media inicial'\\n        self.means=random.sample(inputs,self.k)\\n        assignments=None\\n        while True:\\n            'encontre novas associacoes'\\n            new_assignments=map(self.classify,inputs)\\n            'se nenhuma associacao mudou, terminamos'\\n            if assignments==new_assignments:\\n                return \\n            'senao, mantenha as novas associacoes'\\n            assignments=new_assignments\\n            'compute novas medias, baseado nas novas associacoes'\\n            for i in range(self.k):\\n                'encontre todos os pontos associados ao agrupamento i'\\n                i_points=[p for p, a in zip(inputs,assignments) if a==i]\\n                \\n                'certifique-se que i-points nao esta vazio p'                 'ara nao dovidir por 0'\\n                if i_points:\\n                    self.means[i]=vector_mean(i_points)\""
      ]
     },
     "execution_count": 15,
     "metadata": {},
     "output_type": "execute_result"
    }
   ],
   "source": [
    "'''\n",
    "\n",
    "class KMeans:\n",
    "    'executa agrupamentos k-means'\n",
    "    def __init__(self,k):\n",
    "        self.k=k            #numero de agrupamentos\n",
    "        self.means=None\n",
    "    def classify(self,input):\n",
    "        'retorna o indice do agrupamento mais proximo da entrada'\n",
    "        return min(range(self.k),\n",
    "        key=lambda i: squared_distance(input,self.means[i]))\n",
    "    def train(self,inputs):\n",
    "        'escolha pontos k aleatorios como media inicial'\n",
    "        self.means=random.sample(inputs,self.k)\n",
    "        assignments=None\n",
    "        while True:\n",
    "            'encontre novas associacoes'\n",
    "            new_assignments=map(self.classify,inputs)\n",
    "            'se nenhuma associacao mudou, terminamos'\n",
    "            if assignments==new_assignments:\n",
    "                return \n",
    "            'senao, mantenha as novas associacoes'\n",
    "            assignments=new_assignments\n",
    "            'compute novas medias, baseado nas novas associacoes'\n",
    "            for i in range(self.k):\n",
    "                'encontre todos os pontos associados ao agrupamento i'\n",
    "                i_points=[p for p, a in zip(inputs,assignments) if a==i]\n",
    "                \n",
    "                'certifique-se que i-points nao esta vazio p' \\\n",
    "                'ara nao dovidir por 0'\n",
    "                if i_points:\n",
    "                    self.means[i]=vector_mean(i_points)'''"
   ]
  },
  {
   "cell_type": "code",
   "execution_count": 22,
   "metadata": {},
   "outputs": [],
   "source": [
    "class KMeans:\n",
    "    \"\"\"performs k-means clustering\"\"\"\n",
    "\n",
    "    def __init__(self, k):\n",
    "        self.k = k          # number of clusters\n",
    "        self.means = None   # means of clusters\n",
    "\n",
    "    def classify(self, input):\n",
    "        \"\"\"return the index of the cluster closest to the input\"\"\"\n",
    "        return min(range(self.k),\n",
    "                   key=lambda i: squared_distance(input, self.means[i]))\n",
    "\n",
    "    def train(self, inputs):\n",
    "\n",
    "        self.means = random.sample(inputs, self.k)\n",
    "        assignments = None\n",
    "\n",
    "        while True:\n",
    "            # Find new assignments\n",
    "            new_assignments = list(map(self.classify, inputs))\n",
    "\n",
    "            # If no assignments have changed, we're done.\n",
    "            if assignments == new_assignments:\n",
    "                return\n",
    "\n",
    "            # Otherwise keep the new assignments,\n",
    "            assignments = new_assignments\n",
    "\n",
    "            for i in range(self.k):\n",
    "                i_points = [p for p, a in zip(inputs, assignments) if a == i]\n",
    "                # avoid divide-by-zero if i_points is empty\n",
    "                if i_points:\n",
    "                    self.means[i] = vector_mean(i_points)"
   ]
  },
  {
   "cell_type": "code",
   "execution_count": 37,
   "metadata": {},
   "outputs": [
    {
     "data": {
      "text/plain": [
       "[[-22.0, -12.0],\n [20.0, 26.0],\n [12.0, 14.0],\n [-42.5, 3.0],\n [-13.0, -19.0],\n [-49.0, 15.0],\n [-13.75, -5.5],\n [-9.0, -16.0],\n [26.0, 13.0]]"
      ]
     },
     "execution_count": 37,
     "metadata": {},
     "output_type": "execute_result"
    }
   ],
   "source": [
    "random.seed(0)\n",
    "clusterer=KMeans(9)\n",
    "clusterer.train(inputs)\n",
    "clusterer.means"
   ]
  },
  {
   "cell_type": "code",
   "execution_count": 38,
   "metadata": {},
   "outputs": [],
   "source": [
    "def squared_clustering_errors(inputs,k):\n",
    "    'encontrar o eero ao quadrado total de k-means agrupando as entradas'\n",
    "    clusterer=KMeans(k)\n",
    "    clusterer.train(inputs)\n",
    "    means=clusterer.means\n",
    "    assignments=map(clusterer.classify,inputs)\n",
    "    return sum(squared_distance(input,means[cluster])\n",
    "               for input, cluster in zip(inputs, assignments))"
   ]
  },
  {
   "cell_type": "code",
   "execution_count": 39,
   "metadata": {},
   "outputs": [
    {
     "data": {
      "image/png": "[encoded data removed]",
      "text/plain": [
       "<Figure size 432x288 with 1 Axes>"
      ]
     },
     "metadata": {},
     "output_type": "display_data"
    }
   ],
   "source": [
    "ks=range(1,len(inputs)+1)\n",
    "errors=[squared_clustering_errors(inputs,k) for k in ks]\n",
    "plt.plot(ks,errors)\n",
    "plt.xticks(ks)\n",
    "plt.xlabel(\"k\")\n",
    "plt.ylabel(\"total de erros ao quadrado\")\n",
    "plt.title(\"erro total vs. numero de agrupementos\")\n",
    "plt.show()"
   ]
  },
  {
   "cell_type": "code",
   "execution_count": null,
   "metadata": {},
   "outputs": [],
   "source": [
    ""
   ]
  }
 ],
 "metadata": {
  "kernelspec": {
   "display_name": "Python 2",
   "language": "python",
   "name": "python2"
  },
  "language_info": {
   "codemirror_mode": {
    "name": "ipython",
    "version": 2.0
   },
   "file_extension": ".py",
   "mimetype": "text/x-python",
   "name": "python",
   "nbconvert_exporter": "python",
   "pygments_lexer": "ipython2",
   "version": "2.7.6"
  }
 },
 "nbformat": 4,
 "nbformat_minor": 0
}