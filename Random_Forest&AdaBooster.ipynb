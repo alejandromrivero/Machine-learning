{
 "cells": [
  {
   "cell_type": "code",
   "execution_count": 1,
   "metadata": {
    "collapsed": true
   },
   "outputs": [],
   "source": [
    "import pandas as pd\n",
    "from sklearn.ensemble import RandomForestClassifier\n",
    "from sklearn.ensemble import AdaBoostClassifier"
   ]
  },
  {
   "cell_type": "code",
   "execution_count": 2,
   "metadata": {},
   "outputs": [
    {
     "data": {
      "text/html": [
       "<div>\n",
       "<style scoped>\n",
       "    .dataframe tbody tr th:only-of-type {\n",
       "        vertical-align: middle;\n",
       "    }\n",
       "\n",
       "    .dataframe tbody tr th {\n",
       "        vertical-align: top;\n",
       "    }\n",
       "\n",
       "    .dataframe thead th {\n",
       "        text-align: right;\n",
       "    }\n",
       "</style>\n",
       "<table border=\"1\" class=\"dataframe\">\n",
       "  <thead>\n",
       "    <tr style=\"text-align: right;\">\n",
       "      <th></th>\n",
       "      <th>duracion</th>\n",
       "      <th>paginas</th>\n",
       "      <th>acciones</th>\n",
       "      <th>valor</th>\n",
       "      <th>clase</th>\n",
       "    </tr>\n",
       "  </thead>\n",
       "  <tbody>\n",
       "    <tr>\n",
       "      <th>0</th>\n",
       "      <td>7.0</td>\n",
       "      <td>2</td>\n",
       "      <td>4</td>\n",
       "      <td>8</td>\n",
       "      <td>2</td>\n",
       "    </tr>\n",
       "    <tr>\n",
       "      <th>1</th>\n",
       "      <td>21.0</td>\n",
       "      <td>2</td>\n",
       "      <td>6</td>\n",
       "      <td>6</td>\n",
       "      <td>2</td>\n",
       "    </tr>\n",
       "    <tr>\n",
       "      <th>2</th>\n",
       "      <td>57.0</td>\n",
       "      <td>2</td>\n",
       "      <td>4</td>\n",
       "      <td>4</td>\n",
       "      <td>2</td>\n",
       "    </tr>\n",
       "    <tr>\n",
       "      <th>3</th>\n",
       "      <td>101.0</td>\n",
       "      <td>3</td>\n",
       "      <td>6</td>\n",
       "      <td>12</td>\n",
       "      <td>2</td>\n",
       "    </tr>\n",
       "    <tr>\n",
       "      <th>4</th>\n",
       "      <td>109.0</td>\n",
       "      <td>2</td>\n",
       "      <td>6</td>\n",
       "      <td>12</td>\n",
       "      <td>2</td>\n",
       "    </tr>\n",
       "    <tr>\n",
       "      <th>...</th>\n",
       "      <td>...</td>\n",
       "      <td>...</td>\n",
       "      <td>...</td>\n",
       "      <td>...</td>\n",
       "      <td>...</td>\n",
       "    </tr>\n",
       "    <tr>\n",
       "      <th>165</th>\n",
       "      <td>13.0</td>\n",
       "      <td>1</td>\n",
       "      <td>7</td>\n",
       "      <td>42</td>\n",
       "      <td>0</td>\n",
       "    </tr>\n",
       "    <tr>\n",
       "      <th>166</th>\n",
       "      <td>12.0</td>\n",
       "      <td>1</td>\n",
       "      <td>2</td>\n",
       "      <td>6</td>\n",
       "      <td>0</td>\n",
       "    </tr>\n",
       "    <tr>\n",
       "      <th>167</th>\n",
       "      <td>13.0</td>\n",
       "      <td>1</td>\n",
       "      <td>3</td>\n",
       "      <td>9</td>\n",
       "      <td>0</td>\n",
       "    </tr>\n",
       "    <tr>\n",
       "      <th>168</th>\n",
       "      <td>13.0</td>\n",
       "      <td>1</td>\n",
       "      <td>7</td>\n",
       "      <td>28</td>\n",
       "      <td>0</td>\n",
       "    </tr>\n",
       "    <tr>\n",
       "      <th>169</th>\n",
       "      <td>12.0</td>\n",
       "      <td>1</td>\n",
       "      <td>6</td>\n",
       "      <td>18</td>\n",
       "      <td>0</td>\n",
       "    </tr>\n",
       "  </tbody>\n",
       "</table>\n",
       "<p>170 rows × 5 columns</p>\n",
       "</div>"
      ],
      "text/plain": [
       "<div>\n",
       "<style scoped>\n",
       "    .dataframe tbody tr th:only-of-type {\n",
       "        vertical-align: middle;\n",
       "    }\n",
       "\n",
       "    .dataframe tbody tr th {\n",
       "        vertical-align: top;\n",
       "    }\n",
       "\n",
       "    .dataframe thead th {\n",
       "        text-align: right;\n",
       "    }\n",
       "</style>\n",
       "<table border=\"1\" class=\"dataframe\">\n",
       "  <thead>\n",
       "    <tr style=\"text-align: right;\">\n",
       "      <th></th>\n",
       "      <th>duracion</th>\n",
       "      <th>paginas</th>\n",
       "      <th>acciones</th>\n",
       "      <th>valor</th>\n",
       "      <th>clase</th>\n",
       "    </tr>\n",
       "  </thead>\n",
       "  <tbody>\n",
       "    <tr>\n",
       "      <th>0</th>\n",
       "      <td>7.0</td>\n",
       "      <td>2</td>\n",
       "      <td>4</td>\n",
       "      <td>8</td>\n",
       "      <td>2</td>\n",
       "    </tr>\n",
       "    <tr>\n",
       "      <th>1</th>\n",
       "      <td>21.0</td>\n",
       "      <td>2</td>\n",
       "      <td>6</td>\n",
       "      <td>6</td>\n",
       "      <td>2</td>\n",
       "    </tr>\n",
       "    <tr>\n",
       "      <th>2</th>\n",
       "      <td>57.0</td>\n",
       "      <td>2</td>\n",
       "      <td>4</td>\n",
       "      <td>4</td>\n",
       "      <td>2</td>\n",
       "    </tr>\n",
       "    <tr>\n",
       "      <th>3</th>\n",
       "      <td>101.0</td>\n",
       "      <td>3</td>\n",
       "      <td>6</td>\n",
       "      <td>12</td>\n",
       "      <td>2</td>\n",
       "    </tr>\n",
       "    <tr>\n",
       "      <th>4</th>\n",
       "      <td>109.0</td>\n",
       "      <td>2</td>\n",
       "      <td>6</td>\n",
       "      <td>12</td>\n",
       "      <td>2</td>\n",
       "    </tr>\n",
       "    <tr>\n",
       "      <th>...</th>\n",
       "      <td>...</td>\n",
       "      <td>...</td>\n",
       "      <td>...</td>\n",
       "      <td>...</td>\n",
       "      <td>...</td>\n",
       "    </tr>\n",
       "    <tr>\n",
       "      <th>165</th>\n",
       "      <td>13.0</td>\n",
       "      <td>1</td>\n",
       "      <td>7</td>\n",
       "      <td>42</td>\n",
       "      <td>0</td>\n",
       "    </tr>\n",
       "    <tr>\n",
       "      <th>166</th>\n",
       "      <td>12.0</td>\n",
       "      <td>1</td>\n",
       "      <td>2</td>\n",
       "      <td>6</td>\n",
       "      <td>0</td>\n",
       "    </tr>\n",
       "    <tr>\n",
       "      <th>167</th>\n",
       "      <td>13.0</td>\n",
       "      <td>1</td>\n",
       "      <td>3</td>\n",
       "      <td>9</td>\n",
       "      <td>0</td>\n",
       "    </tr>\n",
       "    <tr>\n",
       "      <th>168</th>\n",
       "      <td>13.0</td>\n",
       "      <td>1</td>\n",
       "      <td>7</td>\n",
       "      <td>28</td>\n",
       "      <td>0</td>\n",
       "    </tr>\n",
       "    <tr>\n",
       "      <th>169</th>\n",
       "      <td>12.0</td>\n",
       "      <td>1</td>\n",
       "      <td>6</td>\n",
       "      <td>18</td>\n",
       "      <td>0</td>\n",
       "    </tr>\n",
       "  </tbody>\n",
       "</table>\n",
       "<p>170 rows × 5 columns</p>\n",
       "</div>"
      ]
     },
     "execution_count": 2,
     "metadata": {},
     "output_type": "execute_result"
    }
   ],
   "source": [
    "dataframe=pd.read_csv('G:\\Ingeniería Industrial e Engenharia de  Produção\\Cursos de Informática y análisis de sistemas etc/UDACITY/Paso a paso ejemplo de machine learning\\machine-learning-master/usuarios_win_mac_lin.csv')\n",
    "dataframe"
   ]
  },
  {
   "cell_type": "code",
   "execution_count": 3,
   "metadata": {},
   "outputs": [],
   "source": [
    "X_train=dataframe[['duracion','paginas','acciones','valor']]\n",
    "y_train=dataframe['clase']"
   ]
  },
  {
   "cell_type": "code",
   "execution_count": 4,
   "metadata": {
    "collapsed": true
   },
   "outputs": [
    {
     "name": "stderr",
     "output_type": "stream",
     "text": [
      "[Parallel(n_jobs=1)]: Using backend SequentialBackend with 1 concurrent workers.\n[Parallel(n_jobs=1)]: Done   1 out of   1 | elapsed:    0.0s remaining:    0.0s\n"
     ]
    },
    {
     "name": "stdout",
     "output_type": "stream",
     "text": [
      "building tree 1 of 500\nbuilding tree 2 of 500\nbuilding tree 3 of 500\nbuilding tree 4 of 500\nbuilding tree 5 of 500\nbuilding tree 6 of 500\nbuilding tree 7 of 500\nbuilding tree 8 of 500\nbuilding tree 9 of 500\nbuilding tree 10 of 500\nbuilding tree 11 of 500\nbuilding tree 12 of 500\nbuilding tree 13 of 500\nbuilding tree 14 of 500\nbuilding tree 15 of 500\nbuilding tree 16 of 500\nbuilding tree 17 of 500\nbuilding tree 18 of 500\nbuilding tree 19 of 500\nbuilding tree 20 of 500\nbuilding tree 21 of 500\nbuilding tree 22 of 500\nbuilding tree 23 of 500\nbuilding tree 24 of 500\nbuilding tree 25 of 500\nbuilding tree 26 of 500\nbuilding tree 27 of 500\nbuilding tree 28 of 500\nbuilding tree 29 of 500\nbuilding tree 30 of 500\nbuilding tree 31 of 500\nbuilding tree 32 of 500\nbuilding tree 33 of 500\nbuilding tree 34 of 500\nbuilding tree 35 of 500\nbuilding tree 36 of 500\nbuilding tree 37 of 500\nbuilding tree 38 of 500\nbuilding tree 39 of 500\nbuilding tree 40 of 500\nbuilding tree 41 of 500\nbuilding tree 42 of 500\nbuilding tree 43 of 500\n"
     ]
    },
    {
     "name": "stdout",
     "output_type": "stream",
     "text": [
      "building tree 44 of 500\nbuilding tree 45 of 500\nbuilding tree 46 of 500\nbuilding tree 47 of 500\nbuilding tree 48 of 500\nbuilding tree 49 of 500\nbuilding tree 50 of 500\nbuilding tree 51 of 500\nbuilding tree 52 of 500\nbuilding tree 53 of 500\nbuilding tree 54 of 500\nbuilding tree 55 of 500\nbuilding tree 56 of 500\nbuilding tree 57 of 500\nbuilding tree 58 of 500\nbuilding tree 59 of 500\nbuilding tree 60 of 500\nbuilding tree 61 of 500\nbuilding tree 62 of 500\nbuilding tree 63 of 500\nbuilding tree 64 of 500\nbuilding tree 65 of 500\nbuilding tree 66 of 500\nbuilding tree 67 of 500\nbuilding tree 68 of 500\nbuilding tree 69 of 500\nbuilding tree 70 of 500\nbuilding tree 71 of 500\nbuilding tree 72 of 500\nbuilding tree 73 of 500\nbuilding tree 74 of 500\nbuilding tree 75 of 500\nbuilding tree 76 of 500\nbuilding tree 77 of 500\nbuilding tree 78 of 500\n"
     ]
    },
    {
     "name": "stdout",
     "output_type": "stream",
     "text": [
      "building tree 79 of 500\nbuilding tree 80 of 500\nbuilding tree 81 of 500\nbuilding tree 82 of 500\nbuilding tree 83 of 500\nbuilding tree 84 of 500\nbuilding tree 85 of 500\nbuilding tree 86 of 500\nbuilding tree 87 of 500\nbuilding tree 88 of 500\nbuilding tree 89 of 500\nbuilding tree 90 of 500\nbuilding tree 91 of 500\nbuilding tree 92 of 500\nbuilding tree 93 of 500\nbuilding tree 94 of 500\nbuilding tree 95 of 500\nbuilding tree 96 of 500\nbuilding tree 97 of 500\nbuilding tree 98 of 500\nbuilding tree 99 of 500\nbuilding tree 100 of 500\nbuilding tree 101 of 500\nbuilding tree 102 of 500\nbuilding tree 103 of 500\nbuilding tree 104 of 500\nbuilding tree 105 of 500\nbuilding tree 106 of 500\nbuilding tree 107 of 500\nbuilding tree 108 of 500\nbuilding tree 109 of 500\nbuilding tree 110 of 500\nbuilding tree 111 of 500\nbuilding tree 112 of 500\n"
     ]
    },
    {
     "name": "stdout",
     "output_type": "stream",
     "text": [
      "building tree 113 of 500\nbuilding tree 114 of 500\nbuilding tree 115 of 500\nbuilding tree 116 of 500\nbuilding tree 117 of 500\nbuilding tree 118 of 500\nbuilding tree 119 of 500\nbuilding tree 120 of 500\nbuilding tree 121 of 500\nbuilding tree 122 of 500\nbuilding tree 123 of 500\nbuilding tree 124 of 500\nbuilding tree 125 of 500\nbuilding tree 126 of 500\nbuilding tree 127 of 500\nbuilding tree 128 of 500\nbuilding tree 129 of 500\nbuilding tree 130 of 500\nbuilding tree 131 of 500\nbuilding tree 132 of 500\nbuilding tree 133 of 500\nbuilding tree 134 of 500\nbuilding tree 135 of 500\nbuilding tree 136 of 500\nbuilding tree 137 of 500\nbuilding tree 138 of 500\nbuilding tree 139 of 500\nbuilding tree 140 of 500\nbuilding tree 141 of 500\nbuilding tree 142 of 500\nbuilding tree 143 of 500\nbuilding tree 144 of 500\nbuilding tree 145 of 500\nbuilding tree 146 of 500\nbuilding tree 147 of 500\nbuilding tree 148 of 500\nbuilding tree 149 of 500\nbuilding tree 150 of 500\nbuilding tree 151 of 500\n"
     ]
    },
    {
     "name": "stdout",
     "output_type": "stream",
     "text": [
      "building tree 152 of 500\nbuilding tree 153 of 500\nbuilding tree 154 of 500\nbuilding tree 155 of 500\nbuilding tree 156 of 500\nbuilding tree 157 of 500\nbuilding tree 158 of 500\nbuilding tree 159 of 500\nbuilding tree 160 of 500\nbuilding tree 161 of 500\nbuilding tree 162 of 500\nbuilding tree 163 of 500\nbuilding tree 164 of 500\nbuilding tree 165 of 500\nbuilding tree 166 of 500\nbuilding tree 167 of 500\nbuilding tree 168 of 500\nbuilding tree 169 of 500\nbuilding tree 170 of 500\nbuilding tree 171 of 500\nbuilding tree 172 of 500\nbuilding tree 173 of 500\nbuilding tree 174 of 500\nbuilding tree 175 of 500\nbuilding tree 176 of 500\nbuilding tree 177 of 500\nbuilding tree 178 of 500\nbuilding tree 179 of 500\nbuilding tree 180 of 500\nbuilding tree 181 of 500\nbuilding tree 182 of 500\nbuilding tree 183 of 500\nbuilding tree 184 of 500\nbuilding tree 185 of 500\nbuilding tree 186 of 500\nbuilding tree 187 of 500\nbuilding tree 188 of 500\nbuilding tree 189 of 500\nbuilding tree 190 of 500\nbuilding tree 191 of 500\nbuilding tree 192 of 500\nbuilding tree 193 of 500\nbuilding tree 194 of 500\nbuilding tree 195 of 500\nbuilding tree 196 of 500\nbuilding tree 197 of 500\nbuilding tree 198 of 500\nbuilding tree 199 of 500\n"
     ]
    },
    {
     "name": "stdout",
     "output_type": "stream",
     "text": [
      "building tree 200 of 500\nbuilding tree 201 of 500\nbuilding tree 202 of 500\nbuilding tree 203 of 500\nbuilding tree 204 of 500\nbuilding tree 205 of 500\nbuilding tree 206 of 500\nbuilding tree 207 of 500\nbuilding tree 208 of 500\nbuilding tree 209 of 500\nbuilding tree 210 of 500\nbuilding tree 211 of 500\nbuilding tree 212 of 500\nbuilding tree 213 of 500\nbuilding tree 214 of 500\nbuilding tree 215 of 500\nbuilding tree 216 of 500\nbuilding tree 217 of 500\nbuilding tree 218 of 500\nbuilding tree 219 of 500\nbuilding tree 220 of 500\nbuilding tree 221 of 500\nbuilding tree 222 of 500\nbuilding tree 223 of 500\nbuilding tree 224 of 500\nbuilding tree 225 of 500\nbuilding tree 226 of 500\nbuilding tree 227 of 500\nbuilding tree 228 of 500\nbuilding tree 229 of 500\nbuilding tree 230 of 500\nbuilding tree 231 of 500\nbuilding tree 232 of 500\nbuilding tree 233 of 500\nbuilding tree 234 of 500\nbuilding tree 235 of 500\nbuilding tree 236 of 500\nbuilding tree 237 of 500\nbuilding tree 238 of 500\nbuilding tree 239 of 500\nbuilding tree 240 of 500\nbuilding tree 241 of 500\nbuilding tree 242 of 500\nbuilding tree 243 of 500\nbuilding tree 244 of 500\n"
     ]
    },
    {
     "name": "stdout",
     "output_type": "stream",
     "text": [
      "building tree 245 of 500\nbuilding tree 246 of 500\nbuilding tree 247 of 500\nbuilding tree 248 of 500\nbuilding tree 249 of 500\nbuilding tree 250 of 500\nbuilding tree 251 of 500\nbuilding tree 252 of 500\nbuilding tree 253 of 500\nbuilding tree 254 of 500\nbuilding tree 255 of 500\nbuilding tree 256 of 500\nbuilding tree 257 of 500\nbuilding tree 258 of 500\nbuilding tree 259 of 500\nbuilding tree 260 of 500\nbuilding tree 261 of 500\nbuilding tree 262 of 500\nbuilding tree 263 of 500\nbuilding tree 264 of 500\nbuilding tree 265 of 500\nbuilding tree 266 of 500\nbuilding tree 267 of 500\nbuilding tree 268 of 500\nbuilding tree 269 of 500\nbuilding tree 270 of 500\nbuilding tree 271 of 500\nbuilding tree 272 of 500\nbuilding tree 273 of 500\nbuilding tree 274 of 500\nbuilding tree 275 of 500\nbuilding tree 276 of 500\nbuilding tree 277 of 500\nbuilding tree 278 of 500\nbuilding tree 279 of 500\nbuilding tree 280 of 500\nbuilding tree 281 of 500\nbuilding tree 282 of 500\nbuilding tree 283 of 500\nbuilding tree 284 of 500\nbuilding tree 285 of 500\nbuilding tree 286 of 500\nbuilding tree 287 of 500\nbuilding tree 288 of 500\nbuilding tree 289 of 500\n"
     ]
    },
    {
     "name": "stdout",
     "output_type": "stream",
     "text": [
      "building tree 290 of 500\nbuilding tree 291 of 500\nbuilding tree 292 of 500\nbuilding tree 293 of 500\nbuilding tree 294 of 500\nbuilding tree 295 of 500\nbuilding tree 296 of 500\nbuilding tree 297 of 500\nbuilding tree 298 of 500\nbuilding tree 299 of 500\nbuilding tree 300 of 500\nbuilding tree 301 of 500\nbuilding tree 302 of 500\nbuilding tree 303 of 500\nbuilding tree 304 of 500\nbuilding tree 305 of 500\nbuilding tree 306 of 500\nbuilding tree 307 of 500\nbuilding tree 308 of 500\nbuilding tree 309 of 500\nbuilding tree 310 of 500\nbuilding tree 311 of 500\nbuilding tree 312 of 500\nbuilding tree 313 of 500\nbuilding tree 314 of 500\nbuilding tree 315 of 500\nbuilding tree 316 of 500\nbuilding tree 317 of 500\nbuilding tree 318 of 500\nbuilding tree 319 of 500\nbuilding tree 320 of 500\nbuilding tree 321 of 500\nbuilding tree 322 of 500\nbuilding tree 323 of 500\nbuilding tree 324 of 500\nbuilding tree 325 of 500\nbuilding tree 326 of 500\nbuilding tree 327 of 500\nbuilding tree 328 of 500\nbuilding tree 329 of 500\nbuilding tree 330 of 500\nbuilding tree 331 of 500\nbuilding tree 332 of 500\nbuilding tree 333 of 500\n"
     ]
    },
    {
     "name": "stdout",
     "output_type": "stream",
     "text": [
      "building tree 334 of 500\nbuilding tree 335 of 500\nbuilding tree 336 of 500\nbuilding tree 337 of 500\nbuilding tree 338 of 500\nbuilding tree 339 of 500\nbuilding tree 340 of 500\nbuilding tree 341 of 500\nbuilding tree 342 of 500\nbuilding tree 343 of 500\nbuilding tree 344 of 500\nbuilding tree 345 of 500\nbuilding tree 346 of 500\nbuilding tree 347 of 500\nbuilding tree 348 of 500\nbuilding tree 349 of 500\nbuilding tree 350 of 500\nbuilding tree 351 of 500\nbuilding tree 352 of 500\nbuilding tree 353 of 500\nbuilding tree 354 of 500\nbuilding tree 355 of 500\nbuilding tree 356 of 500\nbuilding tree 357 of 500\nbuilding tree 358 of 500\nbuilding tree 359 of 500\nbuilding tree 360 of 500\nbuilding tree 361 of 500\nbuilding tree 362 of 500\nbuilding tree 363 of 500\nbuilding tree 364 of 500\nbuilding tree 365 of 500\nbuilding tree 366 of 500\nbuilding tree 367 of 500\nbuilding tree 368 of 500\nbuilding tree 369 of 500\nbuilding tree 370 of 500\nbuilding tree 371 of 500\nbuilding tree 372 of 500\nbuilding tree 373 of 500\n"
     ]
    },
    {
     "name": "stdout",
     "output_type": "stream",
     "text": [
      "building tree 374 of 500\nbuilding tree 375 of 500\nbuilding tree 376 of 500\nbuilding tree 377 of 500\nbuilding tree 378 of 500\nbuilding tree 379 of 500\nbuilding tree 380 of 500\nbuilding tree 381 of 500\nbuilding tree 382 of 500\nbuilding tree 383 of 500\nbuilding tree 384 of 500\nbuilding tree 385 of 500\nbuilding tree 386 of 500\nbuilding tree 387 of 500\nbuilding tree 388 of 500\nbuilding tree 389 of 500\nbuilding tree 390 of 500\nbuilding tree 391 of 500\nbuilding tree 392 of 500\nbuilding tree 393 of 500\nbuilding tree 394 of 500\nbuilding tree 395 of 500\nbuilding tree 396 of 500\nbuilding tree 397 of 500\nbuilding tree 398 of 500\nbuilding tree 399 of 500\nbuilding tree 400 of 500\nbuilding tree 401 of 500\nbuilding tree 402 of 500\nbuilding tree 403 of 500\nbuilding tree 404 of 500\nbuilding tree 405 of 500\nbuilding tree 406 of 500\nbuilding tree 407 of 500\nbuilding tree 408 of 500\nbuilding tree 409 of 500\nbuilding tree 410 of 500\nbuilding tree 411 of 500\nbuilding tree 412 of 500\nbuilding tree 413 of 500\nbuilding tree 414 of 500\nbuilding tree 415 of 500\nbuilding tree 416 of 500\nbuilding tree 417 of 500\nbuilding tree 418 of 500\nbuilding tree 419 of 500\n"
     ]
    },
    {
     "name": "stdout",
     "output_type": "stream",
     "text": [
      "building tree 420 of 500\nbuilding tree 421 of 500\nbuilding tree 422 of 500\nbuilding tree 423 of 500\nbuilding tree 424 of 500\nbuilding tree 425 of 500\nbuilding tree 426 of 500\nbuilding tree 427 of 500\nbuilding tree 428 of 500\nbuilding tree 429 of 500\nbuilding tree 430 of 500\nbuilding tree 431 of 500\nbuilding tree 432 of 500\nbuilding tree 433 of 500\nbuilding tree 434 of 500\nbuilding tree 435 of 500\nbuilding tree 436 of 500\nbuilding tree 437 of 500\nbuilding tree 438 of 500\nbuilding tree 439 of 500\nbuilding tree 440 of 500\nbuilding tree 441 of 500\nbuilding tree 442 of 500\nbuilding tree 443 of 500\nbuilding tree 444 of 500\nbuilding tree 445 of 500\nbuilding tree 446 of 500\nbuilding tree 447 of 500\nbuilding tree 448 of 500\nbuilding tree 449 of 500\nbuilding tree 450 of 500\nbuilding tree 451 of 500\nbuilding tree 452 of 500\n"
     ]
    },
    {
     "name": "stdout",
     "output_type": "stream",
     "text": [
      "building tree 453 of 500\nbuilding tree 454 of 500\nbuilding tree 455 of 500\nbuilding tree 456 of 500\nbuilding tree 457 of 500\nbuilding tree 458 of 500\nbuilding tree 459 of 500\nbuilding tree 460 of 500\nbuilding tree 461 of 500\nbuilding tree 462 of 500\nbuilding tree 463 of 500\nbuilding tree 464 of 500\nbuilding tree 465 of 500\nbuilding tree 466 of 500\nbuilding tree 467 of 500\nbuilding tree 468 of 500\nbuilding tree 469 of 500\nbuilding tree 470 of 500\nbuilding tree 471 of 500\nbuilding tree 472 of 500\nbuilding tree 473 of 500\nbuilding tree 474 of 500\nbuilding tree 475 of 500\nbuilding tree 476 of 500\nbuilding tree 477 of 500\nbuilding tree 478 of 500\nbuilding tree 479 of 500\nbuilding tree 480 of 500\nbuilding tree 481 of 500\nbuilding tree 482 of 500\nbuilding tree 483 of 500\nbuilding tree 484 of 500\nbuilding tree 485 of 500\nbuilding tree 486 of 500\nbuilding tree 487 of 500\nbuilding tree 488 of 500\nbuilding tree 489 of 500\nbuilding tree 490 of 500\n"
     ]
    },
    {
     "name": "stdout",
     "output_type": "stream",
     "text": [
      "building tree 491 of 500\nbuilding tree 492 of 500\nbuilding tree 493 of 500\nbuilding tree 494 of 500\nbuilding tree 495 of 500\nbuilding tree 496 of 500\nbuilding tree 497 of 500\nbuilding tree 498 of 500\nbuilding tree 499 of 500\nbuilding tree 500 of 500\n"
     ]
    },
    {
     "name": "stderr",
     "output_type": "stream",
     "text": [
      "[Parallel(n_jobs=1)]: Done 500 out of 500 | elapsed:    2.2s finished\n"
     ]
    },
    {
     "data": {
      "text/plain": [
       "RandomForestClassifier(max_features='sqrt', n_estimators=500, verbose=2)"
      ]
     },
     "execution_count": 4,
     "metadata": {},
     "output_type": "execute_result"
    }
   ],
   "source": [
    "# Crear el modelo con 100 arboles\n",
    "model = RandomForestClassifier(n_estimators=500, \n",
    "                               bootstrap = True, verbose=2,\n",
    "                               max_features = 'sqrt')\n",
    "model.fit(X_train, y_train)"
   ]
  },
  {
   "cell_type": "code",
   "execution_count": 5,
   "metadata": {},
   "outputs": [
    {
     "name": "stderr",
     "output_type": "stream",
     "text": [
      "[Parallel(n_jobs=1)]: Using backend SequentialBackend with 1 concurrent workers.\n[Parallel(n_jobs=1)]: Done   1 out of   1 | elapsed:    0.0s remaining:    0.0s\n[Parallel(n_jobs=1)]: Done 500 out of 500 | elapsed:    0.1s finished\n"
     ]
    },
    {
     "data": {
      "text/plain": [
       "0.9882352941176471"
      ]
     },
     "execution_count": 5,
     "metadata": {},
     "output_type": "execute_result"
    }
   ],
   "source": [
    "model.score(X_train,y_train)"
   ]
  },
  {
   "cell_type": "code",
   "execution_count": 6,
   "metadata": {},
   "outputs": [
    {
     "name": "stderr",
     "output_type": "stream",
     "text": [
      "[Parallel(n_jobs=1)]: Using backend SequentialBackend with 1 concurrent workers.\n[Parallel(n_jobs=1)]: Done   1 out of   1 | elapsed:    0.0s remaining:    0.0s\n[Parallel(n_jobs=1)]: Done 500 out of 500 | elapsed:    0.1s finished\n"
     ]
    },
    {
     "data": {
      "text/plain": [
       "'[0]'"
      ]
     },
     "execution_count": 6,
     "metadata": {},
     "output_type": "execute_result"
    }
   ],
   "source": [
    "prediccion=model.predict([[11,1,2,10]])\n",
    "str(prediccion)"
   ]
  },
  {
   "cell_type": "markdown",
   "metadata": {},
   "source": [
    "####HACER LA MATRIZ DE CONFUSION Y LA CLASSIFICATION_REPORT, VER BIEN EN EL ARCHIVO DE REGRESION LOGISTICA"
   ]
  },
  {
   "cell_type": "markdown",
   "metadata": {},
   "source": [
    "## AdaBooster"
   ]
  },
  {
   "cell_type": "code",
   "execution_count": 7,
   "metadata": {},
   "outputs": [
    {
     "data": {
      "text/plain": [
       "AdaBoostClassifier(n_estimators=5000, random_state=True)"
      ]
     },
     "execution_count": 7,
     "metadata": {},
     "output_type": "execute_result"
    }
   ],
   "source": [
    "predicAda=AdaBoostClassifier(n_estimators=5000,random_state=True)\n",
    "predicAda.fit(X_train,y_train)"
   ]
  },
  {
   "cell_type": "code",
   "execution_count": 8,
   "metadata": {},
   "outputs": [
    {
     "data": {
      "text/plain": [
       "0.7235294117647059"
      ]
     },
     "execution_count": 8,
     "metadata": {},
     "output_type": "execute_result"
    }
   ],
   "source": [
    "predicAda.score(X_train,y_train)"
   ]
  },
  {
   "cell_type": "code",
   "execution_count": 9,
   "metadata": {},
   "outputs": [
    {
     "data": {
      "text/plain": [
       "array([0], dtype=int64)"
      ]
     },
     "execution_count": 9,
     "metadata": {},
     "output_type": "execute_result"
    }
   ],
   "source": [
    "predicAda.predict([[11,1,2,10]])"
   ]
  },
  {
   "cell_type": "code",
   "execution_count": 10,
   "metadata": {},
   "outputs": [],
   "source": [
    "sum_paginas=dataframe['paginas'].sum()\n",
    "pag_count=dataframe['paginas'].count()"
   ]
  },
  {
   "cell_type": "code",
   "execution_count": 11,
   "metadata": {},
   "outputs": [
    {
     "data": {
      "text/plain": [
       "2.041176470588235"
      ]
     },
     "execution_count": 11,
     "metadata": {},
     "output_type": "execute_result"
    }
   ],
   "source": [
    "average_paginas=(sum_paginas/pag_count)\n",
    "average_paginas"
   ]
  },
  {
   "cell_type": "code",
   "execution_count": 12,
   "metadata": {},
   "outputs": [
    {
     "name": "stdout",
     "output_type": "stream",
     "text": [
      "O erro sistematico:  0.0412\n"
     ]
    }
   ],
   "source": [
    "systematic_error=average_paginas-2\n",
    "print('O erro sistematico: ',round(systematic_error,4))"
   ]
  },
  {
   "cell_type": "code",
   "execution_count": null,
   "metadata": {},
   "outputs": [],
   "source": [
    ""
   ]
  }
 ],
 "metadata": {
  "kernelspec": {
   "display_name": "Python 2",
   "language": "python",
   "name": "python2"
  },
  "language_info": {
   "codemirror_mode": {
    "name": "ipython",
    "version": 2.0
   },
   "file_extension": ".py",
   "mimetype": "text/x-python",
   "name": "python",
   "nbconvert_exporter": "python",
   "pygments_lexer": "ipython2",
   "version": "2.7.6"
  }
 },
 "nbformat": 4,
 "nbformat_minor": 0
}